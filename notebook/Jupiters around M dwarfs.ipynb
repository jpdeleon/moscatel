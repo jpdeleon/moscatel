{
 "cells": [
  {
   "cell_type": "markdown",
   "metadata": {},
   "source": [
    "## Jupiters around M dwarfs"
   ]
  },
  {
   "cell_type": "code",
   "execution_count": 1,
   "metadata": {},
   "outputs": [
    {
     "name": "stdout",
     "output_type": "stream",
     "text": [
      "Python 2.7.13 :: Continuum Analytics, Inc.\r\n"
     ]
    }
   ],
   "source": [
    "!python --version"
   ]
  },
  {
   "cell_type": "code",
   "execution_count": 27,
   "metadata": {},
   "outputs": [
    {
     "name": "stdout",
     "output_type": "stream",
     "text": [
      "retrieving URL: http://exoplanetarchive.ipac.caltech.edu/cgi-bin/nstedAPI/nph-nstedAPI?table=exoplanets\n",
      "created file: confirmed_planets_20170602.csv\n"
     ]
    }
   ],
   "source": [
    "#for Pyton 2.7\n",
    "import urllib2\n",
    "import time\n",
    "\n",
    "url = 'http://exoplanetarchive.ipac.caltech.edu/cgi-bin/nstedAPI/nph-nstedAPI?table=exoplanets'\n",
    "params = 'pl_hostname,pl_letter,pl_discmethod,pl_bmassj,pl_radj,pl_orbsmax,pl_orbper,st_spstr,st_teff'\n",
    "full_url= url+'&select='+ params\n",
    "\n",
    "response = urllib2.urlopen(full_url)\n",
    "#response = urllib2.urlopen(url)\n",
    "html = response.read()\n",
    "\n",
    "outpath = 'confirmed_planets_{}.csv'.format(time.strftime(\"%Y%m%d\")) #include date of download\n",
    "\n",
    "print(\"retrieving URL: {}\".format(url))\n",
    "\n",
    "with open(outpath,'wb') as f:\n",
    "     f.write(html)\n",
    "print(\"created file: {}\".format(outpath))"
   ]
  },
  {
   "cell_type": "code",
   "execution_count": 21,
   "metadata": {},
   "outputs": [
    {
     "data": {
      "text/html": [
       "<div>\n",
       "<style>\n",
       "    .dataframe thead tr:only-child th {\n",
       "        text-align: right;\n",
       "    }\n",
       "\n",
       "    .dataframe thead th {\n",
       "        text-align: left;\n",
       "    }\n",
       "\n",
       "    .dataframe tbody tr th {\n",
       "        vertical-align: top;\n",
       "    }\n",
       "</style>\n",
       "<table border=\"1\" class=\"dataframe\">\n",
       "  <thead>\n",
       "    <tr style=\"text-align: right;\">\n",
       "      <th></th>\n",
       "      <th>pl_hostname</th>\n",
       "      <th>pl_letter</th>\n",
       "      <th>pl_discmethod</th>\n",
       "      <th>pl_bmassj</th>\n",
       "      <th>pl_radj</th>\n",
       "      <th>pl_orbsmax</th>\n",
       "      <th>pl_orbper</th>\n",
       "      <th>st_spstr</th>\n",
       "      <th>st_teff</th>\n",
       "    </tr>\n",
       "  </thead>\n",
       "  <tbody>\n",
       "    <tr>\n",
       "      <th>0</th>\n",
       "      <td>Kepler-125</td>\n",
       "      <td>b</td>\n",
       "      <td>Transit</td>\n",
       "      <td>NaN</td>\n",
       "      <td>0.211</td>\n",
       "      <td>0.041</td>\n",
       "      <td>4.164389</td>\n",
       "      <td>NaN</td>\n",
       "      <td>3810.0</td>\n",
       "    </tr>\n",
       "    <tr>\n",
       "      <th>1</th>\n",
       "      <td>Kepler-126</td>\n",
       "      <td>b</td>\n",
       "      <td>Transit</td>\n",
       "      <td>NaN</td>\n",
       "      <td>0.136</td>\n",
       "      <td>0.099</td>\n",
       "      <td>10.495711</td>\n",
       "      <td>NaN</td>\n",
       "      <td>6239.0</td>\n",
       "    </tr>\n",
       "    <tr>\n",
       "      <th>2</th>\n",
       "      <td>Kepler-126</td>\n",
       "      <td>c</td>\n",
       "      <td>Transit</td>\n",
       "      <td>NaN</td>\n",
       "      <td>0.141</td>\n",
       "      <td>0.162</td>\n",
       "      <td>21.869741</td>\n",
       "      <td>NaN</td>\n",
       "      <td>6239.0</td>\n",
       "    </tr>\n",
       "    <tr>\n",
       "      <th>3</th>\n",
       "      <td>Kepler-126</td>\n",
       "      <td>d</td>\n",
       "      <td>Transit</td>\n",
       "      <td>NaN</td>\n",
       "      <td>0.223</td>\n",
       "      <td>0.448</td>\n",
       "      <td>100.283134</td>\n",
       "      <td>NaN</td>\n",
       "      <td>6239.0</td>\n",
       "    </tr>\n",
       "    <tr>\n",
       "      <th>4</th>\n",
       "      <td>Kepler-127</td>\n",
       "      <td>c</td>\n",
       "      <td>Transit</td>\n",
       "      <td>NaN</td>\n",
       "      <td>0.237</td>\n",
       "      <td>0.200</td>\n",
       "      <td>29.393195</td>\n",
       "      <td>NaN</td>\n",
       "      <td>6106.0</td>\n",
       "    </tr>\n",
       "  </tbody>\n",
       "</table>\n",
       "</div>"
      ],
      "text/plain": [
       "  pl_hostname pl_letter pl_discmethod  pl_bmassj  pl_radj  pl_orbsmax  \\\n",
       "0  Kepler-125         b       Transit        NaN    0.211       0.041   \n",
       "1  Kepler-126         b       Transit        NaN    0.136       0.099   \n",
       "2  Kepler-126         c       Transit        NaN    0.141       0.162   \n",
       "3  Kepler-126         d       Transit        NaN    0.223       0.448   \n",
       "4  Kepler-127         c       Transit        NaN    0.237       0.200   \n",
       "\n",
       "    pl_orbper st_spstr  st_teff  \n",
       "0    4.164389      NaN   3810.0  \n",
       "1   10.495711      NaN   6239.0  \n",
       "2   21.869741      NaN   6239.0  \n",
       "3  100.283134      NaN   6239.0  \n",
       "4   29.393195      NaN   6106.0  "
      ]
     },
     "execution_count": 21,
     "metadata": {},
     "output_type": "execute_result"
    }
   ],
   "source": [
    "import pandas as pd\n",
    "df = pd.read_csv(outpath)\n",
    "df.head()"
   ]
  },
  {
   "cell_type": "code",
   "execution_count": 23,
   "metadata": {},
   "outputs": [
    {
     "data": {
      "text/plain": [
       "Transit                          2731\n",
       "Radial Velocity                   632\n",
       "Microlensing                       46\n",
       "Imaging                            43\n",
       "Transit Timing Variations          15\n",
       "Eclipse Timing Variations           8\n",
       "Orbital Brightness Modulation       6\n",
       "Pulsar Timing                       5\n",
       "Pulsation Timing Variations         2\n",
       "Astrometry                          1\n",
       "Name: pl_discmethod, dtype: int64"
      ]
     },
     "execution_count": 23,
     "metadata": {},
     "output_type": "execute_result"
    }
   ],
   "source": [
    "df['pl_discmethod'].value_counts()"
   ]
  },
  {
   "cell_type": "code",
   "execution_count": 24,
   "metadata": {
    "collapsed": true
   },
   "outputs": [],
   "source": [
    "idx1 = df['st_spstr'] == 'Transit'\n",
    "df_transit = df[idx1]"
   ]
  },
  {
   "cell_type": "code",
   "execution_count": 33,
   "metadata": {},
   "outputs": [
    {
     "data": {
      "text/plain": [
       "314"
      ]
     },
     "execution_count": 33,
     "metadata": {},
     "output_type": "execute_result"
    }
   ],
   "source": [
    "len(df_transit['st_spstr'].dropna())"
   ]
  },
  {
   "cell_type": "markdown",
   "metadata": {},
   "source": [
    "only 314 has spectral type classification so I'll manually [classify](https://en.wikipedia.org/wiki/Main_sequence) them based on mass, radius, and temp."
   ]
  },
  {
   "cell_type": "raw",
   "metadata": {},
   "source": [
    "O = df_transit.query('pl_bmassj > 40 and pl_radj > 18 and 30000 < st_teff<38000')\n",
    "B = df_transit.query('6.5 < pl_bmassj < 18 and 3.8 < pl_radj < 7.4 and 16400 < st_teff<30000')\n",
    "A = df_transit.query('2.1 < pl_bmassj < 3.2 and 1.7 < pl_radj < 2.5 and 8620 < st_teff<10800')\n",
    "F = df_transit.query('1.3 < pl_bmassj < 1.7 and 1.2 < pl_radj < 1.3 and 6540 < st_teff<7240')\n",
    "G = df_transit.query('0.93 < pl_bmassj < 1.05 and 0.93 < pl_radj < 1 and 5240 < st_teff<6540')\n",
    "K = df_transit.query('0.69 < pl_bmassj < 0.78 and 0.74 < pl_radj < 0.85 and 4410 < st_teff<5240')\n",
    "M = df_transit.query('0.10 < pl_bmassj < 0.47 and 0.13 < pl_radj < 0.63 and 2660 < st_teff<3920')"
   ]
  },
  {
   "cell_type": "code",
   "execution_count": 51,
   "metadata": {
    "collapsed": true
   },
   "outputs": [],
   "source": [
    "O = df_transit.query('pl_radj > 18 and 30000 < st_teff<38000')\n",
    "B = df_transit.query('3.8 < pl_radj < 7.4 and 16400 < st_teff<30000')\n",
    "A = df_transit.query('1.7 < pl_radj < 2.5 and 8620 < st_teff<10800')\n",
    "F = df_transit.query('1.2 < pl_radj < 1.3 and 6540 < st_teff<7240')\n",
    "G = df_transit.query('0.93 < pl_radj < 1 and 5240 < st_teff<6540')\n",
    "K = df_transit.query('0.74 < pl_radj < 0.85 and 4410 < st_teff<5240')\n",
    "M = df_transit.query('0.13 < pl_radj < 0.63 and 2660 < st_teff<3920')"
   ]
  },
  {
   "cell_type": "code",
   "execution_count": 52,
   "metadata": {},
   "outputs": [
    {
     "data": {
      "text/plain": [
       "231"
      ]
     },
     "execution_count": 52,
     "metadata": {},
     "output_type": "execute_result"
    }
   ],
   "source": [
    "len(df_transit.dropna())"
   ]
  },
  {
   "cell_type": "markdown",
   "metadata": {},
   "source": [
    "## solar-type"
   ]
  },
  {
   "cell_type": "code",
   "execution_count": 61,
   "metadata": {
    "collapsed": true
   },
   "outputs": [],
   "source": [
    "G = df_transit.query('0.9<pl_radj<1 and 5600<st_teff<6000')"
   ]
  },
  {
   "cell_type": "code",
   "execution_count": 62,
   "metadata": {},
   "outputs": [
    {
     "data": {
      "image/png": "[encoded data removed]",
      "text/plain": [
       "<matplotlib.figure.Figure at 0x7fd9d81f13d0>"
      ]
     },
     "metadata": {},
     "output_type": "display_data"
    }
   ],
   "source": [
    "import matplotlib.pyplot as plt\n",
    "%matplotlib inline\n",
    "\n",
    "#create an empty figure\n",
    "fig, ax=plt.subplots(nrows=3,ncols=2, figsize=(10,10))\n",
    "\n",
    "for \n",
    "    st_type\n",
    "    ax[].scatter(x=st_type['st_teff'], y=st_type['pl_radj'], color='blue')\n",
    "    #below is for putting the labels on x and y-axes\n",
    "    plt.xlabel('T_eff [K]')\n",
    "    plt.ylabel('Radius [R_Jup]')\n",
    "    #to add title\n",
    "    plt.title('Transiting exoplanets')\n",
    "    #to reveal plot\n",
    "    plt.show()"
   ]
  },
  {
   "cell_type": "markdown",
   "metadata": {},
   "source": [
    "## red dwarfs"
   ]
  },
  {
   "cell_type": "code",
   "execution_count": 65,
   "metadata": {},
   "outputs": [],
   "source": [
    "#red dwarfs ~ 0.075 - 0.50 M_sun; T < 4,000 K\n",
    "M = df_transit.query('2660 < st_teff<3920')"
   ]
  },
  {
   "cell_type": "code",
   "execution_count": 66,
   "metadata": {
    "scrolled": false
   },
   "outputs": [
    {
     "data": {
      "image/png": "[encoded data removed]",
      "text/plain": [
       "<matplotlib.figure.Figure at 0x7fd9ad2f1090>"
      ]
     },
     "metadata": {},
     "output_type": "display_data"
    }
   ],
   "source": [
    "import matplotlib.pyplot as plt\n",
    "%matplotlib inline\n",
    "\n",
    "#create an empty figure\n",
    "fig=plt.figure()\n",
    "\n",
    "plt.scatter(x=M['st_teff'], y=M['pl_radj'], color='blue')\n",
    "#below is for putting the labels on x and y-axes\n",
    "plt.xlabel('T_eff [K]')\n",
    "plt.ylabel('Radius [R_Jup]')\n",
    "#to add title\n",
    "plt.title('Transiting exoplanets')\n",
    "#to reveal plot\n",
    "plt.show()"
   ]
  },
  {
   "cell_type": "code",
   "execution_count": 67,
   "metadata": {},
   "outputs": [
    {
     "data": {
      "text/plain": [
       "109"
      ]
     },
     "execution_count": 67,
     "metadata": {},
     "output_type": "execute_result"
    }
   ],
   "source": [
    "len(M)"
   ]
  },
  {
   "cell_type": "code",
   "execution_count": 68,
   "metadata": {
    "collapsed": true
   },
   "outputs": [],
   "source": [
    "M_unique = M.query('0.6<pl_radj<1')"
   ]
  },
  {
   "cell_type": "code",
   "execution_count": 69,
   "metadata": {},
   "outputs": [
    {
     "data": {
      "text/html": [
       "<div>\n",
       "<style>\n",
       "    .dataframe thead tr:only-child th {\n",
       "        text-align: right;\n",
       "    }\n",
       "\n",
       "    .dataframe thead th {\n",
       "        text-align: left;\n",
       "    }\n",
       "\n",
       "    .dataframe tbody tr th {\n",
       "        vertical-align: top;\n",
       "    }\n",
       "</style>\n",
       "<table border=\"1\" class=\"dataframe\">\n",
       "  <thead>\n",
       "    <tr style=\"text-align: right;\">\n",
       "      <th></th>\n",
       "      <th>pl_hostname</th>\n",
       "      <th>pl_letter</th>\n",
       "      <th>pl_discmethod</th>\n",
       "      <th>pl_bmassj</th>\n",
       "      <th>pl_radj</th>\n",
       "      <th>pl_orbsmax</th>\n",
       "      <th>pl_orbper</th>\n",
       "      <th>st_spstr</th>\n",
       "      <th>st_teff</th>\n",
       "    </tr>\n",
       "  </thead>\n",
       "  <tbody>\n",
       "    <tr>\n",
       "      <th>104</th>\n",
       "      <td>HATS-6</td>\n",
       "      <td>b</td>\n",
       "      <td>Transit</td>\n",
       "      <td>0.319</td>\n",
       "      <td>0.998</td>\n",
       "      <td>0.03623</td>\n",
       "      <td>3.325273</td>\n",
       "      <td>M1 V</td>\n",
       "      <td>3724.0</td>\n",
       "    </tr>\n",
       "    <tr>\n",
       "      <th>339</th>\n",
       "      <td>Kepler-45</td>\n",
       "      <td>b</td>\n",
       "      <td>Transit</td>\n",
       "      <td>0.505</td>\n",
       "      <td>0.960</td>\n",
       "      <td>0.03000</td>\n",
       "      <td>2.455239</td>\n",
       "      <td>M</td>\n",
       "      <td>3820.0</td>\n",
       "    </tr>\n",
       "  </tbody>\n",
       "</table>\n",
       "</div>"
      ],
      "text/plain": [
       "    pl_hostname pl_letter pl_discmethod  pl_bmassj  pl_radj  pl_orbsmax  \\\n",
       "104      HATS-6         b       Transit      0.319    0.998     0.03623   \n",
       "339   Kepler-45         b       Transit      0.505    0.960     0.03000   \n",
       "\n",
       "     pl_orbper st_spstr  st_teff  \n",
       "104   3.325273     M1 V   3724.0  \n",
       "339   2.455239        M   3820.0  "
      ]
     },
     "execution_count": 69,
     "metadata": {},
     "output_type": "execute_result"
    }
   ],
   "source": [
    "M_unique"
   ]
  },
  {
   "cell_type": "code",
   "execution_count": null,
   "metadata": {
    "collapsed": true
   },
   "outputs": [],
   "source": []
  }
 ],
 "metadata": {
  "kernelspec": {
   "display_name": "Python 2",
   "language": "python",
   "name": "python2"
  },
  "language_info": {
   "codemirror_mode": {
    "name": "ipython",
    "version": 2
   },
   "file_extension": ".py",
   "mimetype": "text/x-python",
   "name": "python",
   "nbconvert_exporter": "python",
   "pygments_lexer": "ipython2",
   "version": "2.7.13"
  }
 },
 "nbformat": 4,
 "nbformat_minor": 2
}
