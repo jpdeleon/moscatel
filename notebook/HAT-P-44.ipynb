{
 "cells": [
  {
   "cell_type": "markdown",
   "metadata": {},
   "source": [
    "# HAT-P-44\n",
    "\n",
    "[vizier](http://simbad.u-strasbg.fr/simbad/sim-id?protocol=html&Ident=HAT-P-44)\n",
    "Obslog says file id=908-533"
   ]
  },
  {
   "cell_type": "code",
   "execution_count": null,
   "metadata": {},
   "outputs": [],
   "source": [
    "from glob import glob\n",
    "try: \n",
    "    from astropy.io import fits as pf\n",
    "except:\n",
    "    import pyfits as pf\n",
    "import numpy as np\n",
    "from datetime import datetime as dt\n",
    "from photutils import DAOStarFinder\n",
    "from astropy.stats import sigma_clipped_stats\n",
    "import matplotlib.pyplot as plt\n",
    "%matplotlib inline\n",
    "import os\n",
    "import getpass\n",
    "#import pandas as pd\n",
    "\n",
    "#filedir='/media/jpdl/B838B30438B2C124/df_HATP44/'\n",
    "#filedir='/mnt/B838B30438B2C124/df_HATP44/'\n",
    "\n",
    "username = getpass.getuser()\n",
    "filedir = os.path.join('/home',username,'data/hatp44_data')\n",
    "output_dir = os.path.join('/home',username,'moscatel_output')\n",
    "\n",
    "file_list = glob(os.path.join(filedir,'MSC*.fits')) \n",
    "file_list.sort()\n",
    "\n",
    "len(file_list)"
   ]
  },
  {
   "cell_type": "code",
   "execution_count": null,
   "metadata": {},
   "outputs": [],
   "source": [
    "from tqdm import tqdm\n",
    "\n",
    "#check types of filters used in all images\n",
    "filters=[]\n",
    "\n",
    "for i in tqdm(file_list):\n",
    "    z = pf.open(i)\n",
    "    hdr = z[0].header\n",
    "    #if hdr['OBJECT']  == 'HAT-P-44':\n",
    "    filters.append(hdr['FILTER'])\n",
    "        \n",
    "set(filters)"
   ]
  },
  {
   "cell_type": "code",
   "execution_count": null,
   "metadata": {},
   "outputs": [],
   "source": [
    "gband=[]\n",
    "rband=[]\n",
    "zband=[]\n",
    "\n",
    "for i in tqdm(file_list):\n",
    "    hdr = pf.open(i)[0].header\n",
    "    #if hdr['OBJECT']  == 'HAT-P-44':\n",
    "    if hdr['FILTER'] == 'g':\n",
    "        gband.append(i)\n",
    "    elif hdr['FILTER'] == 'r':\n",
    "        rband.append(i)\n",
    "    elif hdr['FILTER'] == 'z_s':\n",
    "        zband.append(i)\n",
    "    else: #redundancy\n",
    "        print(i)\n",
    "        \n",
    "print('{0}\\n{1}\\n{2}'.format(len(gband), len(rband), len(zband)))"
   ]
  },
  {
   "cell_type": "markdown",
   "metadata": {},
   "source": [
    "Why are there unequal number for each filter?"
   ]
  },
  {
   "cell_type": "code",
   "execution_count": null,
   "metadata": {},
   "outputs": [],
   "source": [
    "len(gband)+len(rband)+len(zband) == len(file_list)"
   ]
  },
  {
   "cell_type": "code",
   "execution_count": null,
   "metadata": {},
   "outputs": [],
   "source": [
    "import matplotlib.pyplot as plt\n",
    "%matplotlib inline\n",
    "\n",
    "test_image = pf.open(gband[0])[0].data\n",
    "plt.imshow(test_image)"
   ]
  },
  {
   "cell_type": "markdown",
   "metadata": {},
   "source": [
    "## Stacking"
   ]
  },
  {
   "cell_type": "code",
   "execution_count": null,
   "metadata": {},
   "outputs": [],
   "source": [
    "%matplotlib inline\n",
    "from astropy.visualization import SqrtStretch\n",
    "from astropy.visualization.mpl_normalize import ImageNormalize\n",
    "\n",
    "def get_median(file_paths, n_slices, show_image=None, save_image=None):\n",
    "    '''\n",
    "    stack n-slices or all object images and returns stacked image\n",
    "    '''\n",
    "\n",
    "    # take 1457/n_slices = 30 images\n",
    "    print('Stacking {0} images'.format(len(file_paths[::n_slices])))\n",
    "\n",
    "    objs = np.array([pf.getdata(\"%s\" % n) for n in tqdm(file_paths[::n_slices])])\n",
    "\n",
    "    print('Shape of array to be stacked: {0}'.format(objs.shape))\n",
    "    objs_stacked = np.median(objs, axis=0)\n",
    "    \n",
    "    fig = plt.figure(figsize=(8,8))\n",
    "    \n",
    "    if show_image: #default\n",
    "        norm = ImageNormalize(stretch=SqrtStretch())\n",
    "        plt.imshow(objs_stacked,cmap='Greys', origin='lower', norm=norm)\n",
    "        plt.show()\n",
    "    \n",
    "    if save_image is True: #False by default\n",
    "        fname='obj_med'+n_slices+'.fits'\n",
    "        print('Saving stacked image as {}'.format(fname))\n",
    "        pyfits.writeto(fname, objs_stacked, header=hdr)\n",
    "    \n",
    "    return objs_stacked\n",
    "\n",
    "#trial: stack gband images\n",
    "\n",
    "gband_stacked = get_median(gband, n_slices=50, show_image=True, save_image=False)"
   ]
  },
  {
   "cell_type": "code",
   "execution_count": null,
   "metadata": {},
   "outputs": [],
   "source": [
    "import numpy as np\n",
    "\n",
    "x_est, y_est = 701, 304 #eyeball estimate of point source centroid\n",
    "box_size = 100\n",
    "image_array = np.array([pf.getdata(\"%s\" % n) for n in tqdm(gband[::10])]) #stacking"
   ]
  },
  {
   "cell_type": "code",
   "execution_count": null,
   "metadata": {},
   "outputs": [],
   "source": [
    "image_array.shape"
   ]
  },
  {
   "cell_type": "code",
   "execution_count": null,
   "metadata": {
    "collapsed": true
   },
   "outputs": [],
   "source": [
    "image_crop = []\n",
    "add_stacked = []\n",
    "median_stacked = []\n",
    "\n",
    "for i in image_array:\n",
    "    image_crop.append(i[int(y_est-(box_size/2)):int(y_est+(box_size/2)),int(x_est-(box_size/2)):int(x_est+(box_size/2))])\n",
    "    add_stacked.append(sum(image_crop)) #add image instead of median stack\n",
    "    median_stacked.append(np.median(image_crop,axis=0))"
   ]
  },
  {
   "cell_type": "markdown",
   "metadata": {},
   "source": [
    "Check PSF of the point source with increasing number of images to be stacked:\n",
    "\n",
    "(1) Linear adding"
   ]
  },
  {
   "cell_type": "code",
   "execution_count": null,
   "metadata": {},
   "outputs": [],
   "source": [
    "strip=[]\n",
    "for idx,img in enumerate(add_stacked[::3]): #choose from 38 images sliced/ in increments of 3\n",
    "    plt.plot(img[50,:]/np.max(img), label=idx)\n",
    "    strip.append(img[50,:])\n",
    "    \n",
    "plt.legend()"
   ]
  },
  {
   "cell_type": "markdown",
   "metadata": {},
   "source": [
    "(2) Element-wise median stacking"
   ]
  },
  {
   "cell_type": "code",
   "execution_count": null,
   "metadata": {},
   "outputs": [],
   "source": [
    "for idx,img in enumerate(median_stacked[::3]): #\n",
    "    plt.plot(img[50,:]/np.max(img), label=idx)\n",
    "    \n",
    "plt.legend()"
   ]
  },
  {
   "cell_type": "markdown",
   "metadata": {},
   "source": [
    "The psf shape becomes slightly skewed after taking the median.    "
   ]
  },
  {
   "cell_type": "markdown",
   "metadata": {},
   "source": [
    "Take the psf (peak) for each image in the time series"
   ]
  },
  {
   "cell_type": "code",
   "execution_count": null,
   "metadata": {},
   "outputs": [],
   "source": [
    "peak_x = []\n",
    "peak_y = []\n",
    "\n",
    "for idx,img in enumerate(median_stacked[::3]): #slice/ iterate every 3 images \n",
    "    i,j = np.unravel_index(img.argmax(), img.shape) #take x,y max\n",
    "    plt.plot(img[i,:], '-')\n",
    "    plt.plot(img[:,j], '--')\n",
    "    peak_x.append(img[i,:])\n",
    "    peak_y.append(img[:,j])\n",
    "    \n",
    "plt.xlim(45,65);"
   ]
  },
  {
   "cell_type": "code",
   "execution_count": null,
   "metadata": {},
   "outputs": [],
   "source": [
    "med_x=np.median(peak_x,axis=0)\n",
    "med_y=np.median(peak_y,axis=0)\n",
    "\n",
    "plt.plot(med_x, 'b--', lw=2, label='peak median x');\n",
    "plt.plot(med_y, 'r--', lw=2, label='peak median y');\n",
    "plt.legend()"
   ]
  },
  {
   "cell_type": "code",
   "execution_count": 109,
   "metadata": {},
   "outputs": [
    {
     "data": {
      "text/plain": [
       "array([  2118.49414062,   2139.39257812,   2081.76171875,   2152.484375  ,\n",
       "         2145.41992188,   2119.20703125,   2081.9765625 ,   2136.828125  ,\n",
       "         2199.31640625,   2143.54882812,   2084.34765625,   2175.71484375,\n",
       "         2135.75976562,   2059.6171875 ,   2143.953125  ,   2081.49023438,\n",
       "         2130.6015625 ,   2040.72070312,   2099.11914062,   2146.27539062,\n",
       "         2163.9375    ,   2163.11132812,   2138.046875  ,   2117.93164062,\n",
       "         2131.81835938,   2074.20507812,   2078.65820312,   2171.64648438,\n",
       "         2164.77734375,   2181.17382812,   2191.234375  ,   2146.0625    ,\n",
       "         2118.94921875,   2097.13867188,   2108.73632812,   2180.56445312,\n",
       "         2166.19335938,   2226.38867188,   2312.38476562,   2433.109375  ,\n",
       "         2752.07421875,   3275.484375  ,   4305.13476562,   5931.9140625 ,\n",
       "         8935.7578125 ,  13058.13085938,  17624.59960938,  21868.54882812,\n",
       "        24729.91601562,  28492.2734375 ,  30654.75585938,  23169.90820312,\n",
       "        15849.75585938,  10475.83984375,   7093.0078125 ,   4730.46289062,\n",
       "         3484.62109375,   2692.30664062,   2451.88671875,   2313.78125   ,\n",
       "         2213.3671875 ,   2214.24804688,   2230.95703125,   2117.85742188,\n",
       "         2156.84570312,   2075.03515625,   2144.65820312,   2179.46484375,\n",
       "         2160.7578125 ,   2168.7421875 ,   2206.31445312,   2072.38476562,\n",
       "         2133.25195312,   2076.21289062,   2151.8359375 ,   2159.875     ,\n",
       "         2113.515625  ,   2091.08398438,   2135.60351562,   2132.1953125 ,\n",
       "         2159.78710938,   2077.00585938,   2190.61523438,   2136.30859375,\n",
       "         2080.08789062,   2173.5390625 ,   2101.88476562,   2110.90039062,\n",
       "         2116.9609375 ,   2132.85351562,   2093.14453125,   2145.47265625,\n",
       "         2076.234375  ,   2125.5234375 ,   2193.6171875 ,   2089.59570312,\n",
       "         2145.296875  ,   2150.24414062,   2129.37890625,   2126.625     ], dtype=float32)"
      ]
     },
     "execution_count": 109,
     "metadata": {},
     "output_type": "execute_result"
    }
   ],
   "source": [
    "med_y"
   ]
  },
  {
   "cell_type": "code",
   "execution_count": 110,
   "metadata": {},
   "outputs": [
    {
     "data": {
      "text/plain": [
       "5657.6978"
      ]
     },
     "execution_count": 110,
     "metadata": {},
     "output_type": "execute_result"
    }
   ],
   "source": [
    "np.std(med_y)"
   ]
  },
  {
   "cell_type": "code",
   "execution_count": 112,
   "metadata": {},
   "outputs": [
    {
     "data": {
      "text/plain": [
       "4051.6157"
      ]
     },
     "execution_count": 112,
     "metadata": {},
     "output_type": "execute_result"
    }
   ],
   "source": [
    "np.mean(med_y)"
   ]
  },
  {
   "cell_type": "code",
   "execution_count": 111,
   "metadata": {},
   "outputs": [
    {
     "data": {
      "text/plain": [
       "5657.6978"
      ]
     },
     "execution_count": 111,
     "metadata": {},
     "output_type": "execute_result"
    }
   ],
   "source": [
    "np.asarray(med_y).std()"
   ]
  },
  {
   "cell_type": "code",
   "execution_count": 100,
   "metadata": {
    "collapsed": true
   },
   "outputs": [],
   "source": [
    "aperture_radius = '20,30'"
   ]
  },
  {
   "cell_type": "code",
   "execution_count": null,
   "metadata": {},
   "outputs": [],
   "source": [
    "UnivariateSpline(range(len(med_y)), np.max(med_y)/2.0, s=0)"
   ]
  },
  {
   "cell_type": "code",
   "execution_count": null,
   "metadata": {},
   "outputs": [],
   "source": [
    "import numpy as np\n",
    "from scipy.interpolate import UnivariateSpline\n",
    "\n",
    "# create a spline of x and blue-np.max(blue)/2 \n",
    "spline = UnivariateSpline(range(len(med_y)), np.max(med_y)/2.0, s=0)\n",
    "r1, r2 = spline.roots() # find the roots"
   ]
  },
  {
   "cell_type": "markdown",
   "metadata": {},
   "source": [
    "### estimating fwhm"
   ]
  },
  {
   "cell_type": "code",
   "execution_count": 126,
   "metadata": {},
   "outputs": [
    {
     "name": "stdout",
     "output_type": "stream",
     "text": [
      "A: 22066.0550018\n",
      "mu: 30.785315452\n",
      "sigma= 3.32973047697\n",
      "eps: 2213.91178878\n"
     ]
    },
    {
     "data": {
      "image/png": "[encoded data removed]",
      "text/plain": [
       "<matplotlib.figure.Figure at 0x7fb7251a8050>"
      ]
     },
     "metadata": {},
     "output_type": "display_data"
    }
   ],
   "source": [
    "#using scipy\n",
    "from scipy.optimize import curve_fit\n",
    "\n",
    "def gauss(x, *params):\n",
    "    A, mu, sigma, eps= params\n",
    "    return A*np.exp(-(x-mu)**2/(2.*sigma**2)) + eps\n",
    "\n",
    "#estimate mean and standard deviation\n",
    "ydata = (np.copy(med_x[20:80])+np.copy(med_y[20:80]))/2\n",
    "xdata = np.array(range(len(ydata)))\n",
    "mean = np.mean(ydata)\n",
    "sigma = np.std(ydata)\n",
    "#fitting\n",
    "eps =0\n",
    "popt, pcov = curve_fit(gauss, xdata, ydata, p0 = [3e4, mean, sigma, eps])\n",
    "\n",
    "plt.plot(xdata,gauss(xdata, *popt), label='Gaussian fit')\n",
    "plt.plot(xdata,ydata,'ok', label='data')\n",
    "plt.legend()\n",
    "\n",
    "print('A: {}\\nmu: {}\\nsigma= {}\\neps: {}'.format(popt[0],popt[1], popt[2], popt[3]))"
   ]
  },
  {
   "cell_type": "code",
   "execution_count": 127,
   "metadata": {},
   "outputs": [
    {
     "name": "stdout",
     "output_type": "stream",
     "text": [
      "A: 0.886325873486\n",
      "mu: 30.7853152579\n",
      "sigma= 3.32973092154\n",
      "eps: 0.0889260528078\n"
     ]
    },
    {
     "data": {
      "image/png": "[encoded data removed]",
      "text/plain": [
       "<matplotlib.figure.Figure at 0x7fb7250e76d0>"
      ]
     },
     "metadata": {},
     "output_type": "display_data"
    }
   ],
   "source": [
    "#using scipy\n",
    "from scipy.optimize import curve_fit\n",
    "\n",
    "def gauss(x, *params):\n",
    "    A, mu, sigma, eps= params\n",
    "    return A*np.exp(-(x-mu)**2/(2.*sigma**2)) + eps\n",
    "\n",
    "#estimate mean and standard deviation\n",
    "ydata = (np.copy(med_x[20:80])+np.copy(med_y[20:80]))/2\n",
    "ydata /=np.max(ydata)\n",
    "xdata = np.array(range(len(ydata)))\n",
    "mean = np.mean(xdata)\n",
    "sigma = np.std(ydata)\n",
    "eps =0\n",
    "#fitting\n",
    "popt, pcov = curve_fit(gauss, xdata, ydata, p0 = [1, mean, sigma, eps])\n",
    "\n",
    "plt.plot(xdata,gauss(xdata, *popt), label='Gaussian fit')\n",
    "plt.plot(xdata,ydata,'ok', label='data')\n",
    "plt.legend()\n",
    "\n",
    "print('A: {}\\nmu: {}\\nsigma= {}\\neps: {}'.format(popt[0],popt[1], popt[2], popt[3]))"
   ]
  },
  {
   "cell_type": "code",
   "execution_count": 135,
   "metadata": {},
   "outputs": [
    {
     "data": {
      "text/plain": [
       "29.5"
      ]
     },
     "execution_count": 135,
     "metadata": {},
     "output_type": "execute_result"
    }
   ],
   "source": [
    "np.mean(xdata)"
   ]
  },
  {
   "cell_type": "code",
   "execution_count": 131,
   "metadata": {},
   "outputs": [
    {
     "data": {
      "text/plain": [
       "0.58780289568006994"
      ]
     },
     "execution_count": 131,
     "metadata": {},
     "output_type": "execute_result"
    }
   ],
   "source": [
    "2.355*np.std(ydata)"
   ]
  },
  {
   "cell_type": "code",
   "execution_count": 132,
   "metadata": {},
   "outputs": [
    {
     "data": {
      "text/plain": [
       "3.3297309215424153"
      ]
     },
     "execution_count": 132,
     "metadata": {},
     "output_type": "execute_result"
    }
   ],
   "source": [
    "popt[2]"
   ]
  },
  {
   "cell_type": "code",
   "execution_count": 133,
   "metadata": {},
   "outputs": [
    {
     "data": {
      "text/plain": [
       "7.8415163202323876"
      ]
     },
     "execution_count": 133,
     "metadata": {},
     "output_type": "execute_result"
    }
   ],
   "source": [
    "fwhm=2.355*np.abs(popt[2])\n",
    "fwhm"
   ]
  },
  {
   "cell_type": "code",
   "execution_count": null,
   "metadata": {},
   "outputs": [],
   "source": [
    "#covariance=0: no linear relationship; neg:; pos:\n",
    "#diagonal is covariance of a variable with itself = variance\n",
    "print(pcov)"
   ]
  },
  {
   "cell_type": "code",
   "execution_count": null,
   "metadata": {
    "scrolled": true
   },
   "outputs": [],
   "source": [
    "from scipy.stats import skew as skew\n",
    "val = skew(ydata, axis=0)\n",
    "val"
   ]
  },
  {
   "cell_type": "markdown",
   "metadata": {},
   "source": [
    "# Maximum Likelihood Estimate (MLE)"
   ]
  },
  {
   "cell_type": "code",
   "execution_count": null,
   "metadata": {},
   "outputs": [],
   "source": [
    "from scipy import optimize as op\n",
    "\n",
    "#loss function\n",
    "def log_like(params, x, y):     #params is a tuple\n",
    "    A, mu, sigma, eps = params  #unpack\n",
    "    y_model = A*np.exp(-(x-mu)**2/(2.*sigma**2)) + eps  #gaussian\n",
    "    return -0.5 * np.sum(np.log(2*np.pi*sigma**2) + (y-y_model)**2 / sigma**2)\n",
    "\n",
    "ydata = np.copy(med_x[20:80])\n",
    "xdata = np.array(range(len(ydata)))\n",
    "mean = np.mean(ydata)\n",
    "sigma = np.std(ydata)\n",
    "eps =0.1\n",
    "x0 = [3e4, mean, sigma, eps]                    #init guess\n",
    "args = (xdata, ydata)\n",
    "\n",
    "#negative log likelihood\n",
    "nll = lambda *x: -log_like(*x) #dummy x envelopes a tuple\n",
    "print('Cost: {}'.format(nll(x0, xdata, ydata)))"
   ]
  },
  {
   "cell_type": "raw",
   "metadata": {},
   "source": [
    "#op?\n",
    "optimize.minimize-neldermead\n",
    "optimize.minimize-powell\n",
    "optimize.minimize-cg\n",
    "optimize.minimize-bfgs\n",
    "optimize.minimize-newtoncg\n",
    "optimize.minimize-lbfgsb\n",
    "optimize.minimize-tnc\n",
    "optimize.minimize-cobyla\n",
    "optimize.minimize-slsqp\n",
    "optimize.minimize-dogleg\n",
    "optimize.minimize-trustncg"
   ]
  },
  {
   "cell_type": "code",
   "execution_count": null,
   "metadata": {},
   "outputs": [],
   "source": [
    "opt = op.minimize(nll, x0, args=args, method='bfgs')\n",
    "\n",
    "plt.plot(xdata,gauss(xdata, *opt.x), label='Gaussian fit')\n",
    "#plt.plot(xdata,ydata,'ok', label='data')\n",
    "plt.legend()\n",
    "\n",
    "print(opt.message)\n",
    "print('A: {}\\nmu: {}\\nsigma= {}\\neps: {}'.format(opt.x[0],opt.x[1], opt.x[2], opt.x[3]))"
   ]
  },
  {
   "cell_type": "markdown",
   "metadata": {},
   "source": [
    "What a bad fit!"
   ]
  },
  {
   "cell_type": "code",
   "execution_count": null,
   "metadata": {},
   "outputs": [],
   "source": [
    "import pandas as pd\n",
    "\n",
    "df = pd.DataFrame({'xdata':ydata}, index=xdata)\n",
    "#using pandas\n",
    "\n",
    "#ax = df.xdata.plot(kind='kde', linestyle='-') #there is scaling and amplitude error\n",
    "ax = df.xdata.plot(marker='o')\n",
    "ax.set_xlim([20,80])"
   ]
  },
  {
   "cell_type": "code",
   "execution_count": null,
   "metadata": {},
   "outputs": [],
   "source": [
    "#using gaussian mixture model\n",
    "import numpy as np\n",
    "from sklearn.mixture import GaussianMixture as gmm\n",
    "\n",
    "gmm = gmm()\n",
    "# result\n",
    "r = gmm.fit(X=ydata[:, np.newaxis]) # GMM requires 2D data as of sklearn version 0.16\n",
    "print(\"mean : %f, var : %f\" % (r.means_[0, 0], r.covariances_[0, 0]))"
   ]
  },
  {
   "cell_type": "code",
   "execution_count": null,
   "metadata": {},
   "outputs": [],
   "source": [
    "ydata[:, np.newaxis][43:63]"
   ]
  },
  {
   "cell_type": "code",
   "execution_count": null,
   "metadata": {},
   "outputs": [],
   "source": [
    "r.predict(ydata[:, np.newaxis])"
   ]
  },
  {
   "cell_type": "markdown",
   "metadata": {},
   "source": [
    "### MCMC "
   ]
  },
  {
   "cell_type": "code",
   "execution_count": null,
   "metadata": {
    "collapsed": true
   },
   "outputs": [],
   "source": [
    "import emcee # version 2.0\n",
    "#import multiprocessing\n",
    "\n",
    "def log_prior(params): \n",
    "    A, mu, sigma, eps = params #unpack\n",
    "    if sigma < 0:       #bound since sigma must be nonnegative\n",
    "        return -np.inf  # = log(0)\n",
    "    else:\n",
    "        return (-1.5 * np.log(1 + mu**2) - np.log(sigma))\n",
    "    if A < 0:\n",
    "        return 30e3\n",
    "    \n",
    "    if mu < 20 or mu > 80:\n",
    "        return 50\n",
    "    \n",
    "    if eps < -100 or eps > 100:\n",
    "        return 0\n",
    "    \n",
    "def log_posterior(params, x, y): \n",
    "    return log_prior(params) + log_like(params,x,y)"
   ]
  },
  {
   "cell_type": "code",
   "execution_count": null,
   "metadata": {
    "collapsed": true
   },
   "outputs": [],
   "source": [
    "ndim = 4 # number of parameters in the model \n",
    "nwalkers = 50 # number of MCMC walkers \n",
    "nburn = 1000 # \"burn-in\" to stabilize chains \n",
    "nsteps = 2000 # number of MCMC steps to take \n",
    "\n",
    "\n",
    "starting_guesses = np.random.rand(nwalkers, ndim)"
   ]
  },
  {
   "cell_type": "code",
   "execution_count": null,
   "metadata": {
    "scrolled": true
   },
   "outputs": [],
   "source": [
    "sampler = emcee.EnsembleSampler(nwalkers, ndim, log_posterior, \n",
    "                                args=[xdata,ydata], threads=-1)\n",
    "sampler.run_mcmc(starting_guesses, nsteps)\n",
    "\n",
    "# chain is of shape (nwalkers, nsteps, ndim)\n",
    "# discard burn-in points and reshape\n",
    "trace = sampler.chain[:, nburn:, :] \n",
    "trace = trace.reshape(-1, ndim)\n",
    "\n",
    "theta_hat = np.percentile(trace, 50, axis=0)\n",
    "print(\"A: {}\\nmu: {}\\nsigma: {}\\neps:{}\".format(*theta_hat))"
   ]
  },
  {
   "cell_type": "code",
   "execution_count": null,
   "metadata": {},
   "outputs": [],
   "source": [
    "#before burn in\n",
    "labels = ['A', 'mu', 'sigma', 'eps']\n",
    "fig = plt.figure(figsize=(10,5))\n",
    "for i, chain in enumerate(sampler.chain[:, :nburn, :].T): #up to nburn\n",
    "    plt.subplot(4, 1, i+1)\n",
    "    plt.plot(chain, drawstyle='steps', color='k', alpha=0.2)\n",
    "    plt.ylabel(labels[i])"
   ]
  },
  {
   "cell_type": "code",
   "execution_count": null,
   "metadata": {},
   "outputs": [],
   "source": [
    "#after burn in\n",
    "fig = plt.figure(figsize=(10,5))\n",
    "for i, chain in enumerate(sampler.chain[:, nburn:, :].T): #from nburn\n",
    "    plt.subplot(4, 1, i+1)\n",
    "    plt.plot(chain, drawstyle='steps', color='k', alpha=0.2)\n",
    "    plt.ylabel(labels[i])"
   ]
  },
  {
   "cell_type": "code",
   "execution_count": null,
   "metadata": {},
   "outputs": [],
   "source": [
    "#posteriors\n",
    "fig = plt.figure(figsize=(12,3))\n",
    "for i in range(ndim):\n",
    "    plt.subplot(1,4,i+1)\n",
    "    plt.hist(trace[:,i], 100, color=\"k\", histtype=\"step\")\n",
    "    yl = plt.ylim()\n",
    "    plt.vlines(popt[i], yl[0], yl[1], color='blue', lw=3, alpha=0.25, label='true')\n",
    "    plt.title(\"{}\".format(labels[i]))\n",
    "    plt.legend()"
   ]
  },
  {
   "cell_type": "code",
   "execution_count": null,
   "metadata": {},
   "outputs": [],
   "source": [
    "import corner\n",
    "fig = corner.corner(trace, labels=labels, quantiles=[0.16, 0.5, 0.84], truths=popt)"
   ]
  },
  {
   "cell_type": "markdown",
   "metadata": {},
   "source": [
    "## Manual source detection"
   ]
  },
  {
   "cell_type": "markdown",
   "metadata": {},
   "source": [
    "### cropping a point source from eye-ball estimate"
   ]
  },
  {
   "cell_type": "markdown",
   "metadata": {},
   "source": [
    "for one image"
   ]
  },
  {
   "cell_type": "code",
   "execution_count": null,
   "metadata": {},
   "outputs": [],
   "source": [
    "x_est, y_est = 701, 304\n",
    "box_size = 100\n",
    "\n",
    "sample_cropped = np.copy(gband_stacked[int(y_est-(box_size/2)):int(y_est+(box_size/2)),int(x_est-(box_size/2)):int(x_est+(box_size/2))])\n",
    "plt.imshow(sample_cropped)"
   ]
  },
  {
   "cell_type": "markdown",
   "metadata": {},
   "source": [
    "for stacked image"
   ]
  },
  {
   "cell_type": "code",
   "execution_count": null,
   "metadata": {},
   "outputs": [],
   "source": [
    "x_est, y_est = 701, 304\n",
    "box_size = 100\n",
    "\n",
    "gband_stacked_cropped = np.copy(gband_stacked[int(y_est-(box_size/2)):int(y_est+(box_size/2)),int(x_est-(box_size/2)):int(x_est+(box_size/2))])\n",
    "plt.imshow(gband_stacked_cropped)"
   ]
  },
  {
   "cell_type": "markdown",
   "metadata": {},
   "source": [
    "From above, I estimate that FWHM is about (55-43)= 8 pixels."
   ]
  },
  {
   "cell_type": "markdown",
   "metadata": {},
   "source": [
    "## Source Detection\n",
    "\n",
    "[`photutil.DAOStarFinder`](http://photutils.readthedocs.io/en/stable/photutils/detection.html)"
   ]
  },
  {
   "cell_type": "code",
   "execution_count": null,
   "metadata": {
    "collapsed": true
   },
   "outputs": [],
   "source": [
    "#first, estimate the background and background noise using sigma-clipped statistics:\n",
    "from astropy.stats import sigma_clipped_stats\n",
    "\n",
    "mean, median, std = sigma_clipped_stats(gband_stacked_cropped, sigma=3.0, iters=5)"
   ]
  },
  {
   "cell_type": "code",
   "execution_count": null,
   "metadata": {},
   "outputs": [],
   "source": [
    "print('mean={0}\\nmedian={1}\\nstd={2}'.format(mean, median, std))"
   ]
  },
  {
   "cell_type": "markdown",
   "metadata": {},
   "source": [
    "As seen from plot above, point sources have peak more than 15e3. Let's use this as a cutoff. In multiple of sigma, this is about"
   ]
  },
  {
   "cell_type": "code",
   "execution_count": null,
   "metadata": {},
   "outputs": [],
   "source": [
    "max_value/std"
   ]
  },
  {
   "cell_type": "code",
   "execution_count": null,
   "metadata": {},
   "outputs": [],
   "source": [
    "'''\n",
    "use DAOStarFinder() to find the stars in the image that have \n",
    "FWHMs of around 8 pixels and have peaks approximately 5-sigma \n",
    "above the background\n",
    "'''\n",
    "daofind = DAOStarFinder(fwhm=8.0, threshold=1e2*std)\n",
    "sources = daofind(gband_stacked - median)\n",
    "sources[:5]"
   ]
  },
  {
   "cell_type": "code",
   "execution_count": null,
   "metadata": {},
   "outputs": [],
   "source": [
    "from astropy.table import Table\n",
    "\n",
    "def get_sources(image, num_sources=None, sigma_clip=None):\n",
    "    '''\n",
    "    returns positions and some statistics of point sources;\n",
    "    photutils.DAOStarFinder() searches for local density maxima that have a peak amplitude \n",
    "    greater than threshold (approximately; threshold is applied to a convolved image) and \n",
    "    have a size and shape similar to the defined 2D Gaussian kernel;\n",
    "    Gaussian kernel is defined by the fwhm, ratio, theta, and sigma_radius input parameters.\n",
    "    Flux is calculated as the peak density in the convolved image divided by the detection threshold.\n",
    "    '''\n",
    "    \n",
    "    if num_sources is None:\n",
    "        num_sources=5\n",
    "        #print('---showing 5 brightest sources (default)---')\n",
    "        \n",
    "    if sigma_clip is None:\n",
    "        mean, median, std = sigma_clipped_stats(image, sigma=5, iters=5)\n",
    "    else: #c.f. if sigma_clip:?\n",
    "        mean, median, std = sigma_clipped_stats(image, sigma=sigma_clip, iters=5)\n",
    "    \n",
    "    #threshold: absolute image value above which to select sources\n",
    "    #fwhm: of the major axis of the Gaussian kernel in pixels\n",
    "    daofind = DAOStarFinder(fwhm=8.0, threshold=50.*std)\n",
    "    sources = daofind(image - median)\n",
    "    \n",
    "    #get brightest sources\n",
    "    sources = get_peak_sources(sources, num_sources)\n",
    "    print('Top {0} brightest point sources:\\n{1}'.format(num_sources,sources[:num_sources]))\n",
    "    \n",
    "    return sources\n",
    "\n",
    "def get_peak_sources(sources, num_sources=None):\n",
    "    '''\n",
    "    returns brightest sources ranked by peak counts (in astropy.table format by default)\n",
    "    '''\n",
    "    #convert astropy tables to pandas.df to get sort by sources by peak\n",
    "    df = sources.to_pandas()\n",
    "    #df.set_index('id')\n",
    "    \n",
    "    if num_sources is None:\n",
    "        #use pd to sort point sources by the peak column\n",
    "        sources_df = df.sort_values(by='flux', ascending=False).head(3)\n",
    "    else:\n",
    "        sources_df = df.sort_values(by='flux', ascending=False).head(num_sources)\n",
    "        \n",
    "    #convert pandas back to astropy tables as required by CircularAperture() in show_sources()\n",
    "    peak_sources = Table.from_pandas(sources_df)\n",
    "\n",
    "    return peak_sources #in table format\n",
    "\n",
    "#rank sourcces in stacked image by flux count\n",
    "sources = get_sources(gband_stacked, num_sources=5, sigma_clip=100)"
   ]
  },
  {
   "cell_type": "code",
   "execution_count": null,
   "metadata": {},
   "outputs": [],
   "source": [
    "#get the centroid of brightest point source to be used for cropping later\n",
    "\n",
    "xcenter_init,ycenter_init = sources['xcentroid'][0], sources['ycentroid'][0] \n",
    "print(xcenter_init,ycenter_init)"
   ]
  },
  {
   "cell_type": "markdown",
   "metadata": {},
   "source": [
    "## Cropping with fixed centroid"
   ]
  },
  {
   "cell_type": "code",
   "execution_count": null,
   "metadata": {},
   "outputs": [],
   "source": [
    "from photutils import centroid_2dg\n",
    "from photutils import CircularAperture\n",
    "\n",
    "def get_crop_images(image, sources, num_sources, box_size, aperture_radius_pix, show_image=None):\n",
    "    '''\n",
    "    returns cropped images of brightest point sources and their centroids\n",
    "    '''\n",
    "    #get only the top 5 brightest sources\n",
    "    sources=sources[:num_sources]\n",
    "    \n",
    "    x,y = (sources['xcentroid'], sources['ycentroid'])\n",
    "    \n",
    "    column = 0\n",
    "    source_images = []\n",
    "    apertures = []\n",
    "    \n",
    "    if show_image is True:\n",
    "        fig, ax = plt.subplots(nrows=1, ncols=num_sources, figsize=(10,10))\n",
    "        \n",
    "    for i,j in zip(x,y):\n",
    "        point_source = np.copy(image[int(j-(box_size/2)):int(j+(box_size/2)),int(i-(box_size/2)):int(i+(box_size/2))]) #y1:y2,x1:x2\n",
    "        source_images.append(point_source);\n",
    "        \n",
    "        #recompute new centroid within cropped image\n",
    "        xcenter, ycenter, aperture = get_centroid(point_source, aperture_radius_pix);\n",
    "        apertures.append(aperture)\n",
    "            \n",
    "        if show_image is True:\n",
    "            norm = ImageNormalize(stretch=SqrtStretch())\n",
    "            ax[column].imshow(point_source, cmap='Greys', origin='lower', norm=norm)\n",
    "            ax[column].plot(xcenter, ycenter, color='red', marker='+', ms=30, mew=2)\n",
    "            ax[column].set_title('flux={0:.2f}'.format(sources['flux'][column]))\n",
    "            aperture.plot(color='blue', lw=1.5, alpha=0.5, ax=ax[column]);\n",
    "            column+=1\n",
    "        \n",
    "    return source_images, apertures\n",
    "\n",
    "def get_centroid(image, aperture_radius_pix):\n",
    "    '''\n",
    "    get centroid from fitting a 2D gaussian around the centroid\n",
    "    '''\n",
    "    xcenter, ycenter = centroid_2dg(image);\n",
    "    aperture = CircularAperture([xcenter, ycenter], r=aperture_radius_pix);\n",
    "    \n",
    "    return xcenter, ycenter, aperture\n",
    "\n",
    "source_images, apertures = get_crop_images(gband_stacked, sources, num_sources=3, box_size=80, aperture_radius_pix=30, show_image=True);"
   ]
  },
  {
   "cell_type": "markdown",
   "metadata": {},
   "source": [
    "## Photometry with fixed aperture and initial centroid"
   ]
  },
  {
   "cell_type": "code",
   "execution_count": null,
   "metadata": {
    "collapsed": true
   },
   "outputs": [],
   "source": [
    "import pandas as pd\n",
    "\n",
    "#xcenter_init,ycenter_init = sources['xcentroid'][0], sources['ycentroid'][0] \n",
    "xcenter_init,ycenter_init = 702.63, 304.05\n",
    "box_size=80\n",
    "\n",
    "xcenters, ycenters = [], []\n",
    "fluxes = []\n",
    "areas = []\n",
    "obs_time = []\n",
    "obs_mjd  = []\n",
    "#source_images = []\n",
    "\n",
    "for i in gband[:20]:\n",
    "    hdr = pf.open(i)[0].header\n",
    "    img = pf.open(i)[0].data\n",
    "\n",
    "    #get dates from fits header\n",
    "    date=dt.strptime(hdr['DATE-OBS'], '%Y-%m-%d')\n",
    "    time=dt.strptime(hdr['EXP-STRT'], '%H:%M:%S.%f')\n",
    "    #newdate = time.replace(year=date.year, month=date.month, day=date.day)\n",
    "    obs_time.append(newdate)\n",
    "    obs_mjd.append(hdr['MJD-STRT'])\n",
    "\n",
    "    #crop\n",
    "    point_source = np.copy(img[int(ycenter_init-(box_size/2)):int(ycenter_init+(box_size/2)),int(xcenter_init-(box_size/2)):int(xcenter_init+(box_size/2))]) #y1:y2,x1:x2\n",
    "    #source_images.append(point_source)\n",
    "\n",
    "    #photometry: compute flux within and background noise outside aperture \n",
    "    mean, median, std = sigma_clipped_stats(img, sigma=3.0, iters=5)  \n",
    "    daofind = DAOStarFinder(fwhm=3.0, threshold=5.*std)\n",
    "    sources = daofind(img - median)\n",
    "\n",
    "    flux = sources.to_pandas()['flux'][0]\n",
    "    xcenter = sources.to_pandas()['xcentroid'][0]\n",
    "    ycenter = sources.to_pandas()['ycentroid'][0]\n",
    "    fluxes.append(flux)\n",
    "    xcenters.append(xcenter)\n",
    "    ycenters.append(ycenter)\n",
    "    \n",
    "    #compare centroid with DAOStarFinder()\n",
    "    #xcenter_new, ycenter_new, aperture = get_centroid(img, aperture_radius_pix=30)\n",
    "    #area = aperture.area()\n",
    "    #areas.append(area)\n",
    "\n",
    "#output as dataframe\n",
    "d = {'xcenter' : xcenters,\n",
    "     'ycenter' : ycenters,\n",
    "     'flux'    : fluxes}\n",
    "\n",
    "df_gband = pd.DataFrame(d, index = obs_time)\n",
    "#df_gband.head()"
   ]
  }
 ],
 "metadata": {
  "kernelspec": {
   "display_name": "Python 2",
   "language": "python",
   "name": "python2"
  },
  "language_info": {
   "codemirror_mode": {
    "name": "ipython",
    "version": 2
   },
   "file_extension": ".py",
   "mimetype": "text/x-python",
   "name": "python",
   "nbconvert_exporter": "python",
   "pygments_lexer": "ipython2",
   "version": "2.7.13"
  }
 },
 "nbformat": 4,
 "nbformat_minor": 2
}
